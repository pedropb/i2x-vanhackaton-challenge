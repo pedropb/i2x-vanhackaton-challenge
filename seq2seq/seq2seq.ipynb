{
 "cells": [
  {
   "cell_type": "markdown",
   "metadata": {},
   "source": [
    "# Sequence-to-sequence model to unconcatenate text\n",
    "-----------"
   ]
  },
  {
   "cell_type": "markdown",
   "metadata": {},
   "source": [
    "## Dependencies\n",
    "\n",
    "These are all the modules we'll be using later. Make sure you can import them before proceeding further."
   ]
  },
  {
   "cell_type": "code",
   "execution_count": 74,
   "metadata": {
    "collapsed": false
   },
   "outputs": [],
   "source": [
    "from __future__ import print_function\n",
    "import tensorflow as tf\n",
    "import tensorflow\n",
    "import sys\n",
    "import numpy as np\n",
    "import pandas as pd\n",
    "from matplotlib import pyplot as plt\n",
    "%matplotlib inline\n",
    "import string\n",
    "sys.path.append('../dataset_tools')\n",
    "import dataset_tools\n",
    "from six.moves import range"
   ]
  },
  {
   "cell_type": "markdown",
   "metadata": {},
   "source": [
    "## Download and load text8 dataset\n",
    "\n",
    "For more info on text8 dataset, please visit [this site](http://mattmahoney.net/dc/)."
   ]
  },
  {
   "cell_type": "code",
   "execution_count": 15,
   "metadata": {
    "collapsed": false
   },
   "outputs": [
    {
     "name": "stdout",
     "output_type": "stream",
     "text": [
      "Found and verified /Users/pedro/vanhack/i2x-challenge/dataset_tools/text8.zip\n",
      "Data size 100000000\n",
      "Word count 17005208\n"
     ]
    }
   ],
   "source": [
    "dataset_file = dataset_tools.maybe_download()\n",
    "text = dataset_tools.read_dict_file(dataset_file)\n",
    "words = text.split(\" \")\n",
    "print(\"Data size %d\" % len(text))\n",
    "print(\"Word count %d\" % len(words))"
   ]
  },
  {
   "cell_type": "markdown",
   "metadata": {},
   "source": [
    "## Extract input and labels for the dataset\n",
    "\n",
    "The dataset is composed of a series of words from wikipedia articles dump. The text is already in lower case, there is no punctuation and no numbers. Basically, there are only characters from a to z and whitespaces.\n",
    "\n",
    "For this challenge, we have to create a dataset with input and labels like:\n",
    "- X: iwanttogotoberlin\n",
    "- Y: i want to go to berlin\n",
    "\n"
   ]
  },
  {
   "cell_type": "code",
   "execution_count": 25,
   "metadata": {
    "collapsed": false
   },
   "outputs": [
    {
     "name": "stdout",
     "output_type": "stream",
     "text": [
      "Data size 1700521\n"
     ]
    }
   ],
   "source": [
    "MAX_WORDS_PER_SENTENCE = 10\n",
    "\n",
    "def extract_input_and_labels(words):\n",
    "    def create_xy(fixed_size_words):\n",
    "        return (''.join(fixed_size_words), ' '.join(fixed_size_words))\n",
    "    \n",
    "    return [create_xy(words[i:i+MAX_WORDS_PER_SENTENCE]) \n",
    "            for i in range(0, len(words), MAX_WORDS_PER_SENTENCE)]\n",
    "\n",
    "data = extract_input_and_labels(words)\n",
    "print(\"Data size %d\" % len(data))"
   ]
  },
  {
   "cell_type": "code",
   "execution_count": 26,
   "metadata": {
    "collapsed": false
   },
   "outputs": [
    {
     "name": "stdout",
     "output_type": "stream",
     "text": [
      "Some examples:\n",
      "X: sixalbumsothetitlereferstothethreeseven\n",
      "Y: six album so the title refers to the three seven\n",
      "X: wesleyanarminianismfourviewsoneternalsecuritygrandrapidszondervan\n",
      "Y: wesleyan arminianism four views on eternal security grand rapids zondervan\n",
      "X: collationofvaryingmanuscriptsandintheindependentmanuscripttraditions\n",
      "Y: collation of varying manuscripts and in the independent manuscript traditions\n",
      "X: grouptheeritreanpeoplesliberationfronteplftheleadership\n",
      "Y: group the eritrean people s liberation front eplf the leadership\n",
      "X: jrofphiladelphiapennsylvaniaknownbyhisscreenameerifllehhellfire\n",
      "Y: jr of philadelphia pennsylvania known by his screename eriflleh hellfire\n",
      "X: arefromeightzerozeroamonezerozero\n",
      "Y: are from eight zero zero a m one zero zero\n",
      "X: asashootingwarinantarcticabetweenrivaladvertiserszik\n",
      "Y: as a shooting war in antarctica between rival advertisers zik\n",
      "X: fromcrushingobligationandoverworkandfamilyexpectationsandthe\n",
      "Y: from crushing obligation and overwork and family expectations and the\n",
      "X: emmetwalshascaptainbryantwalshliveduptohis\n",
      "Y: emmet walsh as captain bryant walsh lived up to his\n",
      "X: thecourtincludingliberalssuchasfelixfrankfurterhugoblack\n",
      "Y: the court including liberals such as felix frankfurter hugo black\n"
     ]
    }
   ],
   "source": [
    "print(\"Some examples:\")\n",
    "idxs = np.random.randint(0, high=len(data), size=10)\n",
    "for i in idxs:\n",
    "    print(\"X: %s\" % data[i][0])\n",
    "    print(\"Y: %s\" % data[i][1])"
   ]
  },
  {
   "cell_type": "markdown",
   "metadata": {},
   "source": [
    "## Exploring the data\n",
    "\n",
    "Let's see how the lengths of the encoded and decoded sentences are distributed."
   ]
  },
  {
   "cell_type": "code",
   "execution_count": 73,
   "metadata": {
    "collapsed": false
   },
   "outputs": [
    {
     "data": {
      "text/html": [
       "<div>\n",
       "<table border=\"1\" class=\"dataframe\">\n",
       "  <thead>\n",
       "    <tr style=\"text-align: right;\">\n",
       "      <th></th>\n",
       "      <th>encoder_length</th>\n",
       "      <th>decoder_length</th>\n",
       "    </tr>\n",
       "  </thead>\n",
       "  <tbody>\n",
       "    <tr>\n",
       "      <th>count</th>\n",
       "      <td>1700521.000</td>\n",
       "      <td>1700521.000</td>\n",
       "    </tr>\n",
       "    <tr>\n",
       "      <th>mean</th>\n",
       "      <td>48.806</td>\n",
       "      <td>57.806</td>\n",
       "    </tr>\n",
       "    <tr>\n",
       "      <th>std</th>\n",
       "      <td>9.004</td>\n",
       "      <td>9.004</td>\n",
       "    </tr>\n",
       "    <tr>\n",
       "      <th>min</th>\n",
       "      <td>10.000</td>\n",
       "      <td>19.000</td>\n",
       "    </tr>\n",
       "    <tr>\n",
       "      <th>25%</th>\n",
       "      <td>43.000</td>\n",
       "      <td>52.000</td>\n",
       "    </tr>\n",
       "    <tr>\n",
       "      <th>50%</th>\n",
       "      <td>48.000</td>\n",
       "      <td>57.000</td>\n",
       "    </tr>\n",
       "    <tr>\n",
       "      <th>75%</th>\n",
       "      <td>54.000</td>\n",
       "      <td>63.000</td>\n",
       "    </tr>\n",
       "    <tr>\n",
       "      <th>max</th>\n",
       "      <td>198.000</td>\n",
       "      <td>207.000</td>\n",
       "    </tr>\n",
       "  </tbody>\n",
       "</table>\n",
       "</div>"
      ],
      "text/plain": [
       "       encoder_length  decoder_length\n",
       "count     1700521.000     1700521.000\n",
       "mean           48.806          57.806\n",
       "std             9.004           9.004\n",
       "min            10.000          19.000\n",
       "25%            43.000          52.000\n",
       "50%            48.000          57.000\n",
       "75%            54.000          63.000\n",
       "max           198.000         207.000"
      ]
     },
     "execution_count": 73,
     "metadata": {},
     "output_type": "execute_result"
    }
   ],
   "source": [
    "pd.set_option('display.float_format', lambda x: '%.3f' % x)\n",
    "df = pd.DataFrame(data=[[len(d[0]), len(d[1])] for d in data], columns=[\"encoder_length\", \"decoder_length\"])\n",
    "df.describe()"
   ]
  },
  {
   "cell_type": "code",
   "execution_count": 81,
   "metadata": {
    "collapsed": false
   },
   "outputs": [
    {
     "data": {
      "image/png": "[encoded data removed]",
      "text/plain": [
       "<matplotlib.figure.Figure at 0x15aab7b50>"
      ]
     },
     "metadata": {},
     "output_type": "display_data"
    }
   ],
   "source": [
    "plt.scatter(df[\"encoder_length\"].tolist(), df[\"decoder_length\"].tolist())\n",
    "plt.show()"
   ]
  },
  {
   "cell_type": "markdown",
   "metadata": {},
   "source": [
    "As we can see from the graph above, there are some outliers in this dataset. Our model works with fixed input sizes, so if we accept sentences with such varying lengths, the model training the model.\n",
    "\n",
    "Since we randomly generated the sentences, there"
   ]
  },
  {
   "cell_type": "markdown",
   "metadata": {},
   "source": [
    "## Shuffling\n",
    "\n",
    "To improve training, validation and test split."
   ]
  },
  {
   "cell_type": "code",
   "execution_count": 27,
   "metadata": {
    "collapsed": true
   },
   "outputs": [],
   "source": [
    "np.random.shuffle(data)"
   ]
  },
  {
   "cell_type": "markdown",
   "metadata": {},
   "source": [
    "## Train, Valid and Test split\n",
    "\n",
    "We are doing 80, 10, 10 split"
   ]
  },
  {
   "cell_type": "code",
   "execution_count": 32,
   "metadata": {
    "collapsed": false
   },
   "outputs": [
    {
     "name": "stdout",
     "output_type": "stream",
     "text": [
      "train, valid, test sizes: 1360417 170052 170052\n"
     ]
    }
   ],
   "source": [
    "train_size = int(round(len(data) * .8))\n",
    "test_size = int(round(len(data) * .1))\n",
    "valid_size = len(data) - train_size - test_size\n",
    "\n",
    "train = data[:train_size]\n",
    "valid = data[train_size:(train_size + valid_size)]\n",
    "test = data[(train_size + valid_size):]\n",
    "\n",
    "print(\"train, valid, test sizes:\", len(train), len(valid), len(test))"
   ]
  },
  {
   "cell_type": "markdown",
   "metadata": {},
   "source": [
    "## Utility functions\n",
    "Utility functions to map characters to vocabulary IDs and back. We will be using control characters as following:\n",
    "\n",
    "- `#` represents _padding_, i.e., null space inside a string.\n",
    "- `^` represents _go_, i.e., the start of the translated string.\n",
    "- `$` represents _eos_, i.e., the end of a translated string.\n",
    "- ` ` represents _whitespace_.\n",
    "- `?` represents unknown characters."
   ]
  },
  {
   "cell_type": "code",
   "execution_count": 59,
   "metadata": {
    "collapsed": false
   },
   "outputs": [
    {
     "name": "stdout",
     "output_type": "stream",
     "text": [
      "5 30 3 4\n",
      "a z # ^ $   ?\n"
     ]
    }
   ],
   "source": [
    "CONTROL_CHARS = [\n",
    "    ('#', 0), # PAD\n",
    "    ('^', 1), # GO\n",
    "    ('$', 2), # EOS\n",
    "    (' ', 3), # whitespace\n",
    "    ('?', 4)  # UNK\n",
    "]\n",
    "\n",
    "control_size = len(CONTROL_CHARS)\n",
    "vocabulary_size = len(string.ascii_lowercase) + control_size # [a-z] + CONTROL_CHARS\n",
    "first_letter = ord(string.ascii_lowercase[0])\n",
    "\n",
    "def control_char_by_char(char):\n",
    "    for x in CONTROL_CHARS:\n",
    "        if char == x[0]:\n",
    "            return x\n",
    "    \n",
    "def control_char_by_value(value):\n",
    "    for x in CONTROL_CHARS:\n",
    "        if value == x[1]:\n",
    "            return x\n",
    "\n",
    "def char2id(char):\n",
    "  if char in string.ascii_lowercase:\n",
    "    return ord(char) - first_letter + control_size\n",
    "  elif char in [x[0] for x in CONTROL_CHARS]:\n",
    "    return control_char_by_char(char)[1]\n",
    "  else:\n",
    "    return control_char_by_char('?')[1]\n",
    "  \n",
    "def id2char(dictid):\n",
    "  if dictid >= control_size:\n",
    "    return chr(dictid + first_letter - control_size)\n",
    "  else:\n",
    "    return control_char_by_value(dictid)[0]\n",
    "\n",
    "print(char2id('a'), char2id('z'), char2id(' '), char2id('ï'))\n",
    "print(id2char(5), id2char(30), id2char(0), id2char(1), id2char(2), id2char(3), id2char(4))"
   ]
  },
  {
   "cell_type": "markdown",
   "metadata": {},
   "source": [
    "## Bucketing\n",
    "\n",
    "We need buckets, because the length of the input string and translate string differs.\n",
    "\n",
    "Buckets define encoder and decoder sizes, so that we have multiple model, with different, but fixed, input and output sizes.\n",
    "\n",
    "[Read more about buckets](https://www.tensorflow.org/tutorials/seq2seq#bucketing_and_padding)\n",
    "\n",
    "To define how many buckets, and which sizes, we need to explore the dataset a bit."
   ]
  },
  {
   "cell_type": "code",
   "execution_count": null,
   "metadata": {
    "collapsed": true
   },
   "outputs": [],
   "source": []
  }
 ],
 "metadata": {
  "anaconda-cloud": {},
  "kernelspec": {
   "display_name": "Python [conda env:tensorflow]",
   "language": "python",
   "name": "conda-env-tensorflow-py"
  },
  "language_info": {
   "codemirror_mode": {
    "name": "ipython",
    "version": 2
   },
   "file_extension": ".py",
   "mimetype": "text/x-python",
   "name": "python",
   "nbconvert_exporter": "python",
   "pygments_lexer": "ipython2",
   "version": "2.7.12"
  }
 },
 "nbformat": 4,
 "nbformat_minor": 1
}
